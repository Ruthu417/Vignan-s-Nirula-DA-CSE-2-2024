{
 "cells": [
  {
   "cell_type": "markdown",
   "id": "3371274e",
   "metadata": {},
   "source": [
    "#### Dictionary\n",
    "- Dictionary is paired data stucture contains keys & values\n",
    "- represented by {}\n",
    "- dic={} considered as dict by default\n",
    "- set is represented by {}\n",
    "- s=set() instead of {}\n",
    "- tuple,list,set and dictionary\n",
    "\n",
    "- tuple\n",
    "    - to organise the data in a specific format\n",
    "    - it is immutable\n",
    "    - count(),index()\n",
    "- list\n",
    "    - it is mutable in nature\n",
    "    - it is more features/methods than tuple\n",
    "    - it allows the duplicates \n",
    "    \n",
    "    - tuple is faster than list used banking sectors\n",
    "- set\n",
    "    - a set is the well defined collection of objects\n",
    "    - it avoids the duplication of elements/objects\n",
    "    - no index is given to set objects\n",
    "    \n",
    "- dictionary\n",
    "    - key can be any datatype such as int,float,str\n",
    "    - value might be a datatype/another data strcture such as tuple,list,set,dict\n",
    "    - key acts as an index/reference to the value in the dict\n",
    "    - keys should be unique\n",
    "    "
   ]
  },
  {
   "cell_type": "code",
   "execution_count": 1,
   "id": "f903f1a5",
   "metadata": {
    "collapsed": true
   },
   "outputs": [
    {
     "data": {
      "text/plain": [
       "['__class__',\n",
       " '__class_getitem__',\n",
       " '__contains__',\n",
       " '__delattr__',\n",
       " '__delitem__',\n",
       " '__dir__',\n",
       " '__doc__',\n",
       " '__eq__',\n",
       " '__format__',\n",
       " '__ge__',\n",
       " '__getattribute__',\n",
       " '__getitem__',\n",
       " '__gt__',\n",
       " '__hash__',\n",
       " '__init__',\n",
       " '__init_subclass__',\n",
       " '__ior__',\n",
       " '__iter__',\n",
       " '__le__',\n",
       " '__len__',\n",
       " '__lt__',\n",
       " '__ne__',\n",
       " '__new__',\n",
       " '__or__',\n",
       " '__reduce__',\n",
       " '__reduce_ex__',\n",
       " '__repr__',\n",
       " '__reversed__',\n",
       " '__ror__',\n",
       " '__setattr__',\n",
       " '__setitem__',\n",
       " '__sizeof__',\n",
       " '__str__',\n",
       " '__subclasshook__',\n",
       " 'clear',\n",
       " 'copy',\n",
       " 'fromkeys',\n",
       " 'get',\n",
       " 'items',\n",
       " 'keys',\n",
       " 'pop',\n",
       " 'popitem',\n",
       " 'setdefault',\n",
       " 'update',\n",
       " 'values']"
      ]
     },
     "execution_count": 1,
     "metadata": {},
     "output_type": "execute_result"
    }
   ],
   "source": [
    "dir(dict)"
   ]
  },
  {
   "cell_type": "code",
   "execution_count": 10,
   "id": "ae028d20",
   "metadata": {
    "collapsed": true
   },
   "outputs": [
    {
     "name": "stdout",
     "output_type": "stream",
     "text": [
      "{'Chandini': [544, 'CSE', 2], 'Nandini': (509, 'CSE', 2), 'Jayanthi': {2, 'cse', 501}, 'Final': {'Nirula': (202, 'IT', 4)}, 1: 10, 20.34: 'hi'}\n"
     ]
    }
   ],
   "source": [
    "std={'Chandini':[544,'CSE',2],\n",
    "    'Nandini':(509,'CSE',2),\n",
    "    'Jayanthi':{501,'cse',2},\n",
    "    'Final':{'Nirula':(202,'IT',4)},\n",
    "    1:10,20.34:'hi'}\n",
    "#type(std)-->dict\n",
    "print(std)"
   ]
  },
  {
   "cell_type": "code",
   "execution_count": 3,
   "id": "b1129147",
   "metadata": {
    "collapsed": true
   },
   "outputs": [
    {
     "data": {
      "text/plain": [
       "set"
      ]
     },
     "execution_count": 3,
     "metadata": {},
     "output_type": "execute_result"
    }
   ],
   "source": [
    "s=set()\n",
    "type(s)"
   ]
  },
  {
   "cell_type": "code",
   "execution_count": 11,
   "id": "b4585c2b",
   "metadata": {},
   "outputs": [
    {
     "data": {
      "text/plain": [
       "dict_keys(['Chandini', 'Nandini', 'Jayanthi', 'Final', 1, 20.34])"
      ]
     },
     "execution_count": 11,
     "metadata": {},
     "output_type": "execute_result"
    }
   ],
   "source": [
    "std.keys() # retrieves only keys from dict"
   ]
  },
  {
   "cell_type": "code",
   "execution_count": 12,
   "id": "eafe6bbb",
   "metadata": {},
   "outputs": [
    {
     "data": {
      "text/plain": [
       "dict_values([[544, 'CSE', 2], (509, 'CSE', 2), {2, 'cse', 501}, {'Nirula': (202, 'IT', 4)}, 10, 'hi'])"
      ]
     },
     "execution_count": 12,
     "metadata": {},
     "output_type": "execute_result"
    }
   ],
   "source": [
    "std.values()"
   ]
  },
  {
   "cell_type": "code",
   "execution_count": 13,
   "id": "79cb0004",
   "metadata": {
    "collapsed": true
   },
   "outputs": [
    {
     "data": {
      "text/plain": [
       "dict_items([('Chandini', [544, 'CSE', 2]), ('Nandini', (509, 'CSE', 2)), ('Jayanthi', {2, 'cse', 501}), ('Final', {'Nirula': (202, 'IT', 4)}), (1, 10), (20.34, 'hi')])"
      ]
     },
     "execution_count": 13,
     "metadata": {},
     "output_type": "execute_result"
    }
   ],
   "source": [
    "std.items() # key&Value together called as an item\n",
    "# list of tuples of items"
   ]
  },
  {
   "cell_type": "code",
   "execution_count": 14,
   "id": "4278298a",
   "metadata": {
    "collapsed": true
   },
   "outputs": [
    {
     "name": "stdout",
     "output_type": "stream",
     "text": [
      "Chandini\n",
      "Nandini\n",
      "Jayanthi\n",
      "Final\n",
      "1\n",
      "20.34\n"
     ]
    }
   ],
   "source": [
    "#how to iterate the dict using while\n",
    "for i in std:\n",
    "    print(i)\n",
    "#entire dictionary depends upon keys only"
   ]
  },
  {
   "cell_type": "code",
   "execution_count": 15,
   "id": "6c55cabe",
   "metadata": {
    "collapsed": true
   },
   "outputs": [
    {
     "name": "stdout",
     "output_type": "stream",
     "text": [
      "[544, 'CSE', 2]\n",
      "(509, 'CSE', 2)\n",
      "{2, 'cse', 501}\n",
      "{'Nirula': (202, 'IT', 4)}\n",
      "10\n",
      "hi\n"
     ]
    }
   ],
   "source": [
    "for k in std:\n",
    "    print(std[k]) # iterable[index]-->dict[k]->v"
   ]
  },
  {
   "cell_type": "code",
   "execution_count": 16,
   "id": "37fc2489",
   "metadata": {
    "scrolled": true
   },
   "outputs": [
    {
     "data": {
      "text/plain": [
       "(509, 'CSE', 2)"
      ]
     },
     "execution_count": 16,
     "metadata": {},
     "output_type": "execute_result"
    }
   ],
   "source": [
    "std.get('Nandini') #get() method"
   ]
  },
  {
   "cell_type": "code",
   "execution_count": 17,
   "id": "b5e15d4e",
   "metadata": {
    "collapsed": true
   },
   "outputs": [
    {
     "data": {
      "text/plain": [
       "(509, 'CSE', 2)"
      ]
     },
     "execution_count": 17,
     "metadata": {},
     "output_type": "execute_result"
    }
   ],
   "source": [
    "std['Nandini'] # basic syntax"
   ]
  },
  {
   "cell_type": "code",
   "execution_count": 20,
   "id": "64f42b96",
   "metadata": {
    "collapsed": true
   },
   "outputs": [
    {
     "name": "stdout",
     "output_type": "stream",
     "text": [
      "{'Chandini': [544, 'CSE', 2], 'Nandini': (509, 'CSE', 2), 'Jayanthi': {2, 'cse', 501}, 'Final': {'Nirula': (202, 'IT', 4)}, 1: 10, 20.34: 'hi', 'clg': \"Vignan's\"}\n"
     ]
    }
   ],
   "source": [
    "std.update({'clg':\"Vignan's\"}) # updates the entire dict\n",
    "# new item gets added\n",
    "print(std)"
   ]
  },
  {
   "cell_type": "code",
   "execution_count": 21,
   "id": "82b84554",
   "metadata": {
    "collapsed": true
   },
   "outputs": [
    {
     "name": "stdout",
     "output_type": "stream",
     "text": [
      "{'Chandini': ['511', 'CSE', '3'], 'Nandini': (509, 'CSE', 2), 'Jayanthi': {2, 'cse', 501}, 'Final': {'Nirula': (202, 'IT', 4)}, 1: 10, 20.34: 'hi', 'clg': \"Vignan's\"}\n"
     ]
    }
   ],
   "source": [
    "#how to update perticular item\n",
    "std['Chandini']=['511','CSE','3']\n",
    "print(std)"
   ]
  },
  {
   "cell_type": "code",
   "execution_count": 22,
   "id": "46833bd2",
   "metadata": {
    "collapsed": true
   },
   "outputs": [
    {
     "name": "stdout",
     "output_type": "stream",
     "text": [
      "Chandini=['511', 'CSE', '3']\n",
      "Nandini=(509, 'CSE', 2)\n",
      "Jayanthi={2, 'cse', 501}\n",
      "Final={'Nirula': (202, 'IT', 4)}\n",
      "1=10\n",
      "20.34=hi\n",
      "clg=Vignan's\n"
     ]
    }
   ],
   "source": [
    "# sorted,reversed,zip\n",
    "for k,v in zip(std.keys(),std.values()):\n",
    "    print(k,v,sep='=')"
   ]
  },
  {
   "cell_type": "code",
   "execution_count": 23,
   "id": "a1e44392",
   "metadata": {
    "collapsed": true
   },
   "outputs": [
    {
     "name": "stdout",
     "output_type": "stream",
     "text": [
      "1,5\n",
      "2,6\n",
      "3,7\n",
      "4,8\n"
     ]
    }
   ],
   "source": [
    "f=[1,2,3,4]\n",
    "s=[5,6,7,8]\n",
    "for i,j in zip(f,s):\n",
    "    print(i,j,sep=',')"
   ]
  },
  {
   "cell_type": "markdown",
   "id": "b292e6e9",
   "metadata": {},
   "source": [
    "#### Files\n",
    "- anything that contains information with an extention.\n",
    "- different types of files in our local machine\n",
    "    - .txt,.doc,.xls,.jpg,.mp3,.mp4,.exe etc..\n",
    "    - .apk in our mobile\n",
    "- File operations in general\n",
    "    1. open()\n",
    "    2. read()\n",
    "    3. write()\n",
    "    4. append()\n",
    "    5. close()"
   ]
  },
  {
   "cell_type": "code",
   "execution_count": 26,
   "id": "79f258b4",
   "metadata": {
    "collapsed": true
   },
   "outputs": [
    {
     "name": "stdout",
     "output_type": "stream",
     "text": [
      "print(\"welcome to Data Analysis using python\")\n",
      "a,b=10,20\n",
      "c=10;d=14 # works fine\n",
      "print(a,b,c,d)\n",
      "\n"
     ]
    }
   ],
   "source": [
    "f=open(\"first.py\",'r') # open('filepath/filename','mode')\n",
    "print(f.read()) # str \n",
    "f.close()"
   ]
  },
  {
   "cell_type": "code",
   "execution_count": 27,
   "id": "36e7a2e5",
   "metadata": {},
   "outputs": [
    {
     "name": "stdout",
     "output_type": "stream",
     "text": [
      "['print(\"welcome to Data Analysis using python\")\\n', 'a,b=10,20\\n', 'c=10;d=14 # works fine\\n', 'print(a,b,c,d)\\n']\n"
     ]
    }
   ],
   "source": [
    "f=open(\"first.py\",'r') # open('filepath/filename','mode')\n",
    "print(f.readlines()) # list of lines\n",
    "f.close()"
   ]
  },
  {
   "cell_type": "code",
   "execution_count": 7,
   "id": "12bcaeac",
   "metadata": {
    "collapsed": true
   },
   "outputs": [
    {
     "name": "stdout",
     "output_type": "stream",
     "text": [
      "Learning pyt\n"
     ]
    }
   ],
   "source": [
    "# read(n) ->read first n chars from the file\n",
    "with open('second.txt','r') as sec:\n",
    "    print(sec.read(12))\n",
    "    sec.close()\n"
   ]
  },
  {
   "cell_type": "code",
   "execution_count": 9,
   "id": "e9857913",
   "metadata": {},
   "outputs": [],
   "source": [
    "#write the content into the file\n",
    "w=open('f.py','w')\n",
    "w.write(\"print('Data gets overwrited')\")\n",
    "w.close()"
   ]
  },
  {
   "cell_type": "code",
   "execution_count": 10,
   "id": "ccf524d7",
   "metadata": {},
   "outputs": [],
   "source": [
    "#a user can create the new file using write()\n",
    "wr=open('new.txt','w')\n",
    "wr.write(\"I created this file using write()\\nthis is second line\")\n",
    "wr.close()"
   ]
  },
  {
   "cell_type": "code",
   "execution_count": 14,
   "id": "86e25aab",
   "metadata": {},
   "outputs": [],
   "source": [
    "#appending the data using write() but with 'a' mode\n",
    "with open('new.txt','a') as p:\n",
    "    p.write(\"adding new content using append()\\n\")\n",
    "    p.close()"
   ]
  },
  {
   "cell_type": "markdown",
   "id": "f4d8445e",
   "metadata": {},
   "source": [
    "#### modes\n",
    "- 'r' to read()\n",
    "- 'w' to write()\n",
    "- 'a' to append the content but using write()\n",
    "- 'r+' for both read() and write() op'ns"
   ]
  },
  {
   "cell_type": "code",
   "execution_count": 18,
   "id": "2ba3e70d",
   "metadata": {
    "collapsed": true
   },
   "outputs": [
    {
     "name": "stdout",
     "output_type": "stream",
     "text": [
      "adding new content using append()adding new content using append()adding new content using append()\n",
      "this is day2 sessionthis is day2 sessionthis is day2 session\n"
     ]
    }
   ],
   "source": [
    "with open('new.txt','r+') as m:\n",
    "    print(m.read())\n",
    "    m.write(\"this is day2 session\")\n",
    "    m.close()"
   ]
  },
  {
   "cell_type": "code",
   "execution_count": 19,
   "id": "336ad05d",
   "metadata": {},
   "outputs": [],
   "source": [
    "# write a python program to check whether a given no.s \n",
    "# is prime or not using functions\n",
    "\n",
    "# you have to find the \n",
    "# 1. no.of alphabets,no.of special chars\n",
    "# 2. no.of words & no.of lines"
   ]
  },
  {
   "cell_type": "code",
   "execution_count": 26,
   "id": "74f00514",
   "metadata": {},
   "outputs": [
    {
     "name": "stdout",
     "output_type": "stream",
     "text": [
      "7\n",
      "prime number\n"
     ]
    }
   ],
   "source": [
    "n=int(input())\n",
    "count=0\n",
    "for i in range(1,(n//2)+1):\n",
    "    if(n%i==0):\n",
    "        count=count+1\n",
    "if(count==1):\n",
    "    print(\"prime number\")\n",
    "else:\n",
    "    print(\"Not a Prime number\")"
   ]
  },
  {
   "cell_type": "code",
   "execution_count": 28,
   "id": "05f2f127",
   "metadata": {},
   "outputs": [
    {
     "data": {
      "text/plain": [
       "(8, 3, 9)"
      ]
     },
     "execution_count": 28,
     "metadata": {},
     "output_type": "execute_result"
    }
   ],
   "source": [
    "10-1,2,5,10\n",
    "20-1,2,4,5,10,20\n",
    "8-1,2,4\n",
    "9-1,3,9"
   ]
  },
  {
   "cell_type": "code",
   "execution_count": 30,
   "id": "e282ead9",
   "metadata": {},
   "outputs": [
    {
     "name": "stdout",
     "output_type": "stream",
     "text": [
      "ab12c@\n",
      "number of alphabets= 3\n",
      "number of special characters= 1\n",
      "number of digits= 2\n"
     ]
    }
   ],
   "source": [
    "s=input()\n",
    "al,n,k=0,0,0\n",
    "for i in s:\n",
    "    if i.isalpha():\n",
    "        al+=1\n",
    "    elif i.isdigit():\n",
    "        k+=1\n",
    "    else:\n",
    "        n+=1\n",
    "print(\"number of alphabets=\",al)\n",
    "print(\"number of special characters=\",n)\n",
    "print(\"number of digits=\",k)"
   ]
  },
  {
   "cell_type": "code",
   "execution_count": 33,
   "id": "a9b53df2",
   "metadata": {
    "collapsed": true
   },
   "outputs": [
    {
     "name": "stdout",
     "output_type": "stream",
     "text": [
      "s=input()\n",
      "al,n,k=0,0,0\n",
      "for i in s:\n",
      "    if i.isalpha():\n",
      "        al+=1\n",
      "    elif i.isdigit():\n",
      "        k+=1\n",
      "    else:\n",
      "        n+=1\n",
      "print(\"number of alphabets=\",al)\n",
      "print(\"number of special characters=\",n)\n",
      "print(\"number of digits=\",k)\n",
      "number of words= 49\n",
      "number of alphabets= 122\n",
      "number of digits 6\n",
      "number of special characters= 53\n"
     ]
    }
   ],
   "source": [
    "fd=open('first.py','r')\n",
    "s=fd.read()\n",
    "print(s)\n",
    "a,d,s1=0,0,0\n",
    "s2=\" \"\n",
    "words=[]\n",
    "lines=s.split(\"\\n\")\n",
    "for k in lines:\n",
    "    words.append(k.split(\" \"))\n",
    "for j in s:\n",
    "    if j.isalpha():\n",
    "        a+=1\n",
    "    elif j.isdigit():\n",
    "        d+=1\n",
    "    elif (j not in s2):\n",
    "        s1+=1\n",
    "print(\"number of words=\",len(words))\n",
    "print(\"number of alphabets=\",a)\n",
    "print(\"number of digits\",d)\n",
    "print(\"number of special characters=\",s1)"
   ]
  },
  {
   "cell_type": "code",
   "execution_count": 48,
   "id": "aa9e3995",
   "metadata": {
    "collapsed": true
   },
   "outputs": [
    {
     "name": "stdout",
     "output_type": "stream",
     "text": [
      "frequency of alphabets= 122\n",
      "frequency of speical chars= 44\n",
      "frequency of words= 60\n",
      "frequency of lines= 12\n"
     ]
    }
   ],
   "source": [
    "file=open('first.py','r')\n",
    "data=file.read()\n",
    "chc=spc=wc=lc=0\n",
    "li=data.split(\"\\n\")\n",
    "for x in data:\n",
    "    if x.isalpha():\n",
    "        chc+=1\n",
    "    elif x.isspace():\n",
    "        wc+=1\n",
    "    else:\n",
    "        spc+=1\n",
    "print(\"frequency of alphabets=\",chc)\n",
    "print(\"frequency of speical chars=\",spc)\n",
    "print(\"frequency of words=\",wc+1)\n",
    "print(\"frequency of lines=\",len(li))"
   ]
  },
  {
   "cell_type": "code",
   "execution_count": 35,
   "id": "d75f0022",
   "metadata": {
    "collapsed": true
   },
   "outputs": [
    {
     "data": {
      "text/plain": [
       "['__add__',\n",
       " '__class__',\n",
       " '__contains__',\n",
       " '__delattr__',\n",
       " '__dir__',\n",
       " '__doc__',\n",
       " '__eq__',\n",
       " '__format__',\n",
       " '__ge__',\n",
       " '__getattribute__',\n",
       " '__getitem__',\n",
       " '__getnewargs__',\n",
       " '__gt__',\n",
       " '__hash__',\n",
       " '__init__',\n",
       " '__init_subclass__',\n",
       " '__iter__',\n",
       " '__le__',\n",
       " '__len__',\n",
       " '__lt__',\n",
       " '__mod__',\n",
       " '__mul__',\n",
       " '__ne__',\n",
       " '__new__',\n",
       " '__reduce__',\n",
       " '__reduce_ex__',\n",
       " '__repr__',\n",
       " '__rmod__',\n",
       " '__rmul__',\n",
       " '__setattr__',\n",
       " '__sizeof__',\n",
       " '__str__',\n",
       " '__subclasshook__',\n",
       " 'capitalize',\n",
       " 'casefold',\n",
       " 'center',\n",
       " 'count',\n",
       " 'encode',\n",
       " 'endswith',\n",
       " 'expandtabs',\n",
       " 'find',\n",
       " 'format',\n",
       " 'format_map',\n",
       " 'index',\n",
       " 'isalnum',\n",
       " 'isalpha',\n",
       " 'isascii',\n",
       " 'isdecimal',\n",
       " 'isdigit',\n",
       " 'isidentifier',\n",
       " 'islower',\n",
       " 'isnumeric',\n",
       " 'isprintable',\n",
       " 'isspace',\n",
       " 'istitle',\n",
       " 'isupper',\n",
       " 'join',\n",
       " 'ljust',\n",
       " 'lower',\n",
       " 'lstrip',\n",
       " 'maketrans',\n",
       " 'partition',\n",
       " 'removeprefix',\n",
       " 'removesuffix',\n",
       " 'replace',\n",
       " 'rfind',\n",
       " 'rindex',\n",
       " 'rjust',\n",
       " 'rpartition',\n",
       " 'rsplit',\n",
       " 'rstrip',\n",
       " 'split',\n",
       " 'splitlines',\n",
       " 'startswith',\n",
       " 'strip',\n",
       " 'swapcase',\n",
       " 'title',\n",
       " 'translate',\n",
       " 'upper',\n",
       " 'zfill']"
      ]
     },
     "execution_count": 35,
     "metadata": {},
     "output_type": "execute_result"
    }
   ],
   "source": [
    "dir(str)"
   ]
  },
  {
   "cell_type": "code",
   "execution_count": 44,
   "id": "b7162647",
   "metadata": {
    "collapsed": true
   },
   "outputs": [
    {
     "name": "stdout",
     "output_type": "stream",
     "text": [
      "['Learning python advanced concepts\\n', 'Day2 session\\n', \"I am Nandini from Vignan's Nirula studying CSE 2 . \"]\n",
      "\n"
     ]
    }
   ],
   "source": [
    "ex=open('second.txt','r+')\n",
    "#n=ex.read()\n",
    "print(ex.readlines())\n",
    "print(ex.read())\n"
   ]
  },
  {
   "cell_type": "code",
   "execution_count": 55,
   "id": "eda5ba26",
   "metadata": {
    "collapsed": true
   },
   "outputs": [
    {
     "name": "stdout",
     "output_type": "stream",
     "text": [
      "Learning python advanced concepts\n",
      "\n",
      "Learning\n",
      "python\n",
      "advanced\n",
      "concepts\n",
      "Day2 session\n",
      "\n",
      "Day2\n",
      "session\n",
      "I am Nandini from Vignan's Nirula studying CSE 2 . \n",
      "I\n",
      "am\n",
      "Nandini\n",
      "from\n",
      "Vignan's\n",
      "Nirula\n",
      "studying\n",
      "CSE\n",
      "2\n",
      ".\n",
      "No.of lines= 3\n",
      "No.of words= 16\n",
      "No.of alphabets= 78\n",
      "No.of special chars= 4\n"
     ]
    }
   ],
   "source": [
    "with open(\"second.txt\",'r') as d:\n",
    "    info=d.readlines()\n",
    "    chc=wc=spc=lc=0\n",
    "    #print(info)\n",
    "    for line in info:\n",
    "        print(line)\n",
    "        for word in line.split():\n",
    "            print(word)\n",
    "            wc+=1\n",
    "            for ch in word:\n",
    "                if ch.isalpha():\n",
    "                    chc+=1\n",
    "                else:spc+=1\n",
    "print(\"No.of lines=\",len(info))\n",
    "print(\"No.of words=\",wc)\n",
    "print(\"No.of alphabets=\",chc)\n",
    "print('No.of special chars=',spc)"
   ]
  },
  {
   "cell_type": "markdown",
   "id": "02d2a8ec",
   "metadata": {},
   "source": [
    "#### modules and packages\n",
    "- group/collection of statements executed to perform a perticular task said to be a function\n",
    "- group/collection of functions called as a module\n",
    "- group of modules a package\n",
    "- Library:Departments:Year:Subjects"
   ]
  },
  {
   "cell_type": "markdown",
   "id": "07688509",
   "metadata": {},
   "source": [
    "##### Function\n",
    "- group of statements\n",
    "- **function syntax**\n",
    "    - def function_name(arguments):\n",
    "        - block of statements-->function definition\n",
    "        - return ends the function\n",
    "- 2 types of functions\n",
    "    1. Pre defined/in built/built in\n",
    "        - these functions were defined when the language is developed\n",
    "        - ex:print(),input(),open(),zip(),int(),type(),dir(),ord(),sorted(),reversed(),str(),dict(),list(),set(),float(),chr(),iter(),next(),sep=(),end=() etc.\n",
    "    2. User defined\n",
    "        - 2types of functions\n",
    "            1. recursive functions\n",
    "                - the function calling itself\n",
    "                - fun call() in the fun def()\n",
    "            2. non-recursive\n",
    "                - 4ways to create a function by the user\n",
    "                    - without args,without return\n",
    "                    - with args,without return\n",
    "                    - with args,with return\n",
    "                    - without args,with return\n",
    "                \n",
    "    "
   ]
  },
  {
   "cell_type": "code",
   "execution_count": 58,
   "id": "a0ac6373",
   "metadata": {
    "collapsed": true
   },
   "outputs": [
    {
     "name": "stdout",
     "output_type": "stream",
     "text": [
      "Enter the value:5\n"
     ]
    },
    {
     "data": {
      "text/plain": [
       "120"
      ]
     },
     "execution_count": 58,
     "metadata": {},
     "output_type": "execute_result"
    }
   ],
   "source": [
    "#n!=n*(n-1)*(n-2)...(n-(n-1))\n",
    "#5!=5*4*3*2*1=120\n",
    "n=int(input(\"Enter the value:\")) # global var\n",
    "def factorial(n):\n",
    "    fact=1\n",
    "    for i in range(n,0,-1): # n to 1\n",
    "        fact*=i\n",
    "    return fact\n",
    "\n",
    "factorial(n)"
   ]
  },
  {
   "cell_type": "code",
   "execution_count": 61,
   "id": "daa1b0ee",
   "metadata": {
    "collapsed": true
   },
   "outputs": [
    {
     "name": "stdout",
     "output_type": "stream",
     "text": [
      "Enter the number:9057\n",
      "21\n",
      "Enter the number:65438\n",
      "summation= 26\n"
     ]
    }
   ],
   "source": [
    "# sum of the digits of a given number\n",
    "#12345:15\n",
    "def find_sum():\n",
    "    sm=0\n",
    "    num=input(\"Enter the number:\")\n",
    "    for v in num:\n",
    "        sm+=int(v)\n",
    "    return sm\n",
    "\n",
    "#find_sum() \n",
    "var=find_sum() # sep=(),end=()\n",
    "print(var)\n",
    "print(\"summation=\",find_sum())"
   ]
  },
  {
   "cell_type": "code",
   "execution_count": 66,
   "id": "fb531f20",
   "metadata": {},
   "outputs": [],
   "source": [
    "import module"
   ]
  },
  {
   "cell_type": "code",
   "execution_count": 67,
   "id": "f98d0ecd",
   "metadata": {
    "collapsed": true
   },
   "outputs": [
    {
     "data": {
      "text/plain": [
       "['__builtins__',\n",
       " '__cached__',\n",
       " '__doc__',\n",
       " '__file__',\n",
       " '__loader__',\n",
       " '__name__',\n",
       " '__package__',\n",
       " '__spec__',\n",
       " 'factorial',\n",
       " 'find_sum',\n",
       " 'is_even',\n",
       " 'n',\n",
       " 'var']"
      ]
     },
     "execution_count": 67,
     "metadata": {},
     "output_type": "execute_result"
    }
   ],
   "source": [
    "dir(module)"
   ]
  },
  {
   "cell_type": "code",
   "execution_count": 68,
   "id": "cfa5cdd5",
   "metadata": {
    "collapsed": true
   },
   "outputs": [
    {
     "name": "stdout",
     "output_type": "stream",
     "text": [
      "Help on function factorial in module module:\n",
      "\n",
      "factorial(n)\n",
      "\n"
     ]
    }
   ],
   "source": [
    "help(module.factorial)"
   ]
  },
  {
   "cell_type": "code",
   "execution_count": 69,
   "id": "90d3b976",
   "metadata": {
    "collapsed": true
   },
   "outputs": [
    {
     "name": "stdout",
     "output_type": "stream",
     "text": [
      "Help on function find_sum in module __main__:\n",
      "\n",
      "find_sum()\n",
      "    # sum of the digits of a given number\n",
      "    #12345:15\n",
      "\n"
     ]
    }
   ],
   "source": [
    "help(find_sum)"
   ]
  },
  {
   "cell_type": "code",
   "execution_count": 73,
   "id": "6ab2c7b8",
   "metadata": {
    "collapsed": true
   },
   "outputs": [
    {
     "ename": "AttributeError",
     "evalue": "module 'module' has no attribute 'is_palindrome'",
     "output_type": "error",
     "traceback": [
      "\u001b[1;31m---------------------------------------------------------------------------\u001b[0m",
      "\u001b[1;31mAttributeError\u001b[0m                            Traceback (most recent call last)",
      "\u001b[1;32m~\\AppData\\Local\\Temp\\ipykernel_21680\\3702222443.py\u001b[0m in \u001b[0;36m<module>\u001b[1;34m\u001b[0m\n\u001b[1;32m----> 1\u001b[1;33m \u001b[0mhelp\u001b[0m\u001b[1;33m(\u001b[0m\u001b[0mmodule\u001b[0m\u001b[1;33m.\u001b[0m\u001b[0mis_palindrome\u001b[0m\u001b[1;33m)\u001b[0m\u001b[1;33m\u001b[0m\u001b[1;33m\u001b[0m\u001b[0m\n\u001b[0m",
      "\u001b[1;31mAttributeError\u001b[0m: module 'module' has no attribute 'is_palindrome'"
     ]
    }
   ],
   "source": [
    "#help(module.is_palindrome)"
   ]
  },
  {
   "cell_type": "code",
   "execution_count": 74,
   "id": "4ae36013",
   "metadata": {},
   "outputs": [],
   "source": [
    "import module as md"
   ]
  },
  {
   "cell_type": "code",
   "execution_count": 75,
   "id": "4bfc6045",
   "metadata": {},
   "outputs": [
    {
     "name": "stdout",
     "output_type": "stream",
     "text": [
      "Enter the number:8765\n"
     ]
    },
    {
     "data": {
      "text/plain": [
       "26"
      ]
     },
     "execution_count": 75,
     "metadata": {},
     "output_type": "execute_result"
    }
   ],
   "source": [
    "md.find_sum()"
   ]
  },
  {
   "cell_type": "code",
   "execution_count": 76,
   "id": "169f55f6",
   "metadata": {},
   "outputs": [
    {
     "data": {
      "text/plain": [
       "120"
      ]
     },
     "execution_count": 76,
     "metadata": {},
     "output_type": "execute_result"
    }
   ],
   "source": [
    "md.factorial(5)"
   ]
  },
  {
   "cell_type": "code",
   "execution_count": null,
   "id": "c9727938",
   "metadata": {},
   "outputs": [],
   "source": []
  }
 ],
 "metadata": {
  "kernelspec": {
   "display_name": "Python 3 (ipykernel)",
   "language": "python",
   "name": "python3"
  },
  "language_info": {
   "codemirror_mode": {
    "name": "ipython",
    "version": 3
   },
   "file_extension": ".py",
   "mimetype": "text/x-python",
   "name": "python",
   "nbconvert_exporter": "python",
   "pygments_lexer": "ipython3",
   "version": "3.9.13"
  }
 },
 "nbformat": 4,
 "nbformat_minor": 5
}
