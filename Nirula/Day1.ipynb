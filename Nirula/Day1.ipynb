{
 "cells": [
  {
   "cell_type": "code",
   "execution_count": 17,
   "id": "d54a39ab",
   "metadata": {
    "collapsed": true
   },
   "outputs": [
    {
     "name": "stdout",
     "output_type": "stream",
     "text": [
      "89 56 23 45 10 39 52\n",
      "{'89': 89, '56': 56, '23': 23, '45': 45, '10': 10, '39': 39, '52': 52}\n"
     ]
    }
   ],
   "source": [
    "''' n=list(map(int,input(\"Enter n space seperated integers\").split()))\n",
    "#list comprehension\n",
    "n\n",
    "# map is a function that maps/applies another function into an iterable\n",
    "#set(map(int,input().split())) #map(a,b))\n",
    "    #set comprehension\n",
    "    \n",
    "# dictionary comprehension */ '''\n",
    "dic={ch:int(ch) for ch in input().split()} #\n",
    "print(dic)"
   ]
  },
  {
   "cell_type": "code",
   "execution_count": 2,
   "id": "e4493e85",
   "metadata": {},
   "outputs": [
    {
     "name": "stdout",
     "output_type": "stream",
     "text": [
      "[10, 20, 30, 40, 50]\n"
     ]
    }
   ],
   "source": [
    "print(n)"
   ]
  },
  {
   "cell_type": "code",
   "execution_count": null,
   "id": "4de16825",
   "metadata": {},
   "outputs": [],
   "source": []
  },
  {
   "cell_type": "code",
   "execution_count": 3,
   "id": "3ee56e57",
   "metadata": {
    "collapsed": true
   },
   "outputs": [
    {
     "ename": "SyntaxError",
     "evalue": "invalid syntax (1861943252.py, line 1)",
     "output_type": "error",
     "traceback": [
      "\u001b[1;36m  File \u001b[1;32m\"C:\\Users\\ruthu\\AppData\\Local\\Temp\\ipykernel_26496\\1861943252.py\"\u001b[1;36m, line \u001b[1;32m1\u001b[0m\n\u001b[1;33m    str ->int->list\u001b[0m\n\u001b[1;37m        ^\u001b[0m\n\u001b[1;31mSyntaxError\u001b[0m\u001b[1;31m:\u001b[0m invalid syntax\n"
     ]
    }
   ],
   "source": [
    "str ->int->list"
   ]
  },
  {
   "cell_type": "code",
   "execution_count": 2,
   "id": "8a7107f9",
   "metadata": {},
   "outputs": [
    {
     "name": "stdout",
     "output_type": "stream",
     "text": [
      "89 5634 3545\n"
     ]
    }
   ],
   "source": [
    "# write a python program to read n space separated values\n",
    "#from the user\n",
    "st=input().split() # str data\n",
    "#int(st):ord()"
   ]
  },
  {
   "cell_type": "code",
   "execution_count": 9,
   "id": "e0791142",
   "metadata": {},
   "outputs": [
    {
     "data": {
      "text/plain": [
       "list"
      ]
     },
     "execution_count": 9,
     "metadata": {},
     "output_type": "execute_result"
    }
   ],
   "source": [
    "type(st)"
   ]
  },
  {
   "cell_type": "code",
   "execution_count": 13,
   "id": "1c7b0e96",
   "metadata": {},
   "outputs": [
    {
     "name": "stdout",
     "output_type": "stream",
     "text": [
      "['987', '45678', '90']\n"
     ]
    }
   ],
   "source": [
    "print(st)"
   ]
  },
  {
   "cell_type": "code",
   "execution_count": 3,
   "id": "ad1c1759",
   "metadata": {},
   "outputs": [
    {
     "data": {
      "text/plain": [
       "[89, 5634, 3545]"
      ]
     },
     "execution_count": 3,
     "metadata": {},
     "output_type": "execute_result"
    }
   ],
   "source": [
    "li=[]\n",
    "for item in st:\n",
    "    li.append(int(item)) #logic\n",
    "li"
   ]
  },
  {
   "cell_type": "markdown",
   "id": "3d762e33",
   "metadata": {},
   "source": [
    "# markdown language is similar to HTML\n",
    "# Represents the heading1\n",
    "## heading2\n",
    "### heading3\n",
    "#### heading4\n",
    "##### heading5\n",
    "###### heading6\n",
    "####### plain/normal text\n",
    "- paragraph/new line\n",
    "* paragraph"
   ]
  },
  {
   "cell_type": "markdown",
   "id": "9fdf5dd6",
   "metadata": {},
   "source": [
    "##### Literate programming\n",
    "- Progrmming along with documentation\n",
    "- plain text\n",
    "- # represents the heading\n",
    "* we have 6 headings (#,##,...######)\n",
    "- *italic* text\n",
    "- **bold** text\n",
    "- ***bold italic*** in this line"
   ]
  },
  {
   "cell_type": "markdown",
   "id": "85cdc63f",
   "metadata": {},
   "source": [
    "<h4 style=\"color:red\">Iterate progrmaming</h4>\n",
    "<h3 style=\"color:white;background-color:green;text-align:center\">Working with HTML</h3>\n",
    "<p>This is a paragraph</p>\n",
    "<img src=\"nature.jpg\" height=\"80px\" width=\"90px\"></img>"
   ]
  },
  {
   "cell_type": "markdown",
   "id": "78309462",
   "metadata": {},
   "source": [
    "#### Build your resume\n",
    "- profile\n",
    "- name,mbl,email\n",
    "- educational qualification\n",
    "- skills\n",
    "- projects\n",
    "- areas of interrest"
   ]
  },
  {
   "cell_type": "markdown",
   "id": "0b7bb066",
   "metadata": {},
   "source": [
    "#### Workshop Syllabus\n",
    "- **Day1**\n",
    "    - Introduction to the course\n",
    "    - Software Installation\n",
    "    - Review of Python Basics\n",
    "    - Jupyter notebook environment\n",
    "    - Documentation\n",
    "        - code,markdown,HTML5\n",
    "    - *Task*\n",
    "        - Resume preparation\n",
    "- **Day2**\n",
    "    - Functions,Dictionary,Files,modules and packages\n",
    "    - oops\n",
    "- **Day3**\n",
    "    - Introduction to Data Analysis\n",
    "    - Numpy module\n",
    "- **Day4**\n",
    "    - Pandas module\n",
    "- **Day5**\n",
    "    - matplot library module\n"
   ]
  },
  {
   "cell_type": "markdown",
   "id": "3707cc32",
   "metadata": {},
   "source": [
    "#### List\n"
   ]
  },
  {
   "cell_type": "code",
   "execution_count": 6,
   "id": "acabbf90",
   "metadata": {
    "collapsed": true
   },
   "outputs": [
    {
     "name": "stdout",
     "output_type": "stream",
     "text": [
      "['False', 'None', 'True', '__peg_parser__', 'and', 'as', 'assert', 'async', 'await', 'break', 'class', 'continue', 'def', 'del', 'elif', 'else', 'except', 'finally', 'for', 'from', 'global', 'if', 'import', 'in', 'is', 'lambda', 'nonlocal', 'not', 'or', 'pass', 'raise', 'return', 'try', 'while', 'with', 'yield']\n"
     ]
    }
   ],
   "source": [
    "import keyword\n",
    "print(keyword.kwlist)"
   ]
  },
  {
   "cell_type": "code",
   "execution_count": 7,
   "id": "a6949bf8",
   "metadata": {},
   "outputs": [
    {
     "data": {
      "text/plain": [
       "['89', '5634', '3545']"
      ]
     },
     "execution_count": 7,
     "metadata": {},
     "output_type": "execute_result"
    }
   ],
   "source": [
    "st"
   ]
  },
  {
   "cell_type": "code",
   "execution_count": 8,
   "id": "bfbb87ec",
   "metadata": {},
   "outputs": [],
   "source": [
    "del st"
   ]
  },
  {
   "cell_type": "code",
   "execution_count": 9,
   "id": "1f8fda56",
   "metadata": {
    "collapsed": true
   },
   "outputs": [
    {
     "ename": "NameError",
     "evalue": "name 'st' is not defined",
     "output_type": "error",
     "traceback": [
      "\u001b[1;31m---------------------------------------------------------------------------\u001b[0m",
      "\u001b[1;31mNameError\u001b[0m                                 Traceback (most recent call last)",
      "\u001b[1;32m~\\AppData\\Local\\Temp\\ipykernel_12476\\2638675277.py\u001b[0m in \u001b[0;36m<module>\u001b[1;34m\u001b[0m\n\u001b[1;32m----> 1\u001b[1;33m \u001b[0mst\u001b[0m\u001b[1;33m\u001b[0m\u001b[1;33m\u001b[0m\u001b[0m\n\u001b[0m",
      "\u001b[1;31mNameError\u001b[0m: name 'st' is not defined"
     ]
    }
   ],
   "source": [
    "st"
   ]
  },
  {
   "cell_type": "markdown",
   "id": "4a202673",
   "metadata": {},
   "source": [
    "#### List\n",
    "- One of the data structures in python\n",
    "- generally called as python objects\n",
    "- it is mutable data structure\n",
    "- can store heterogenous data items but\n",
    "- It allows the duplicate data\n",
    "- represented by []\n",
    "- list()"
   ]
  },
  {
   "cell_type": "code",
   "execution_count": 11,
   "id": "73514036",
   "metadata": {
    "collapsed": true
   },
   "outputs": [
    {
     "name": "stdout",
     "output_type": "stream",
     "text": [
      "['__add__', '__class__', '__class_getitem__', '__contains__', '__delattr__', '__delitem__', '__dir__', '__doc__', '__eq__', '__format__', '__ge__', '__getattribute__', '__getitem__', '__gt__', '__hash__', '__iadd__', '__imul__', '__init__', '__init_subclass__', '__iter__', '__le__', '__len__', '__lt__', '__mul__', '__ne__', '__new__', '__reduce__', '__reduce_ex__', '__repr__', '__reversed__', '__rmul__', '__setattr__', '__setitem__', '__sizeof__', '__str__', '__subclasshook__', 'append', 'clear', 'copy', 'count', 'extend', 'index', 'insert', 'pop', 'remove', 'reverse', 'sort']\n"
     ]
    }
   ],
   "source": [
    "print(dir(list))# directory of list"
   ]
  },
  {
   "cell_type": "code",
   "execution_count": 12,
   "id": "f6b50629",
   "metadata": {
    "collapsed": true
   },
   "outputs": [
    {
     "name": "stdout",
     "output_type": "stream",
     "text": [
      "Help on method_descriptor:\n",
      "\n",
      "insert(self, index, object, /)\n",
      "    Insert object before index.\n",
      "\n"
     ]
    }
   ],
   "source": [
    "help(list.insert)"
   ]
  },
  {
   "cell_type": "code",
   "execution_count": 13,
   "id": "dd6b6a73",
   "metadata": {
    "collapsed": true
   },
   "outputs": [
    {
     "name": "stdout",
     "output_type": "stream",
     "text": [
      "Help on wrapper_descriptor:\n",
      "\n",
      "__add__(self, value, /)\n",
      "    Return self+value.\n",
      "\n"
     ]
    }
   ],
   "source": [
    "help(list.__add__) # gives us the documentation"
   ]
  },
  {
   "cell_type": "code",
   "execution_count": 17,
   "id": "4e188f61",
   "metadata": {
    "collapsed": true
   },
   "outputs": [
    {
     "name": "stdout",
     "output_type": "stream",
     "text": [
      "[100, 101, 102, 103, 104, 105, 106, 107, 108, 109, 110, 111, 112, 113, 114, 115, 116, 117, 118, 119]\n",
      "lower bound:10\n",
      "upper bound:25\n",
      "[10, 11, 12, 13, 14, 15, 16, 17, 18, 19, 20, 21, 22, 23, 24]\n"
     ]
    }
   ],
   "source": [
    "li=list(range(100,120))\n",
    "print(li)\n",
    "\n",
    "print(list(range(int(input(\"lower bound:\")),int(input(\"upper bound:\")))))"
   ]
  },
  {
   "cell_type": "code",
   "execution_count": 25,
   "id": "30cc9509",
   "metadata": {
    "collapsed": true
   },
   "outputs": [
    {
     "name": "stdout",
     "output_type": "stream",
     "text": [
      "lower bound:10\n",
      "upper bound:40\n",
      "[10, 11, 12, 13, 14, 15, 16, 17, 18, 19, 20, 21, 22, 23, 24, 25, 26, 27, 28, 29, 30, 31, 32, 33, 34, 35, 36, 37, 38, 39, 500]\n",
      "[10, 11, 12, 13, 14, 15, 300, 16, 17, 18, 19, 20, 21, 22, 23, 24, 25, 26, 27, 28, 29, 30, 31, 32, 33, 34, 35, 36, 37, 38, 39, 500]\n",
      "value to be removed:15\n",
      "[10, 11, 12, 13, 14, 300, 16, 17, 18, 19, 20, 21, 22, 23, 24, 25, 26, 27, 28, 29, 30, 31, 32, 33, 34, 35, 36, 37, 38, 39, 500]\n",
      "[10, 11, 12, 13, 14, 300, 16, 17, 18, 19, 20, 21, 23, 24, 25, 26, 27, 28, 29, 30, 31, 32, 33, 34, 35, 36, 37, 38, 39]\n",
      "[39, 38, 37, 36, 35, 34, 33, 32, 31, 30, 29, 28, 27, 26, 25, 24, 23, 21, 20, 19, 18, 17, 16, 300, 14, 13, 12, 11, 10]\n"
     ]
    }
   ],
   "source": [
    "new=list(range(int(input(\"lower bound:\")),int(input(\"upper bound:\"))))\n",
    "#100 to 125\n",
    "#append,pop,insert,extend,remove,index,clear,copy,count,reverse,sort\n",
    "new.append(500)\n",
    "print(new)\n",
    "new.insert(6,300) # 300 at 7th position\n",
    "print(new)\n",
    "val=int(input(\"value to be removed:\"))\n",
    "if val in new:\n",
    "    new.remove(val)\n",
    "print(new)\n",
    "new.pop(12) # specific index\n",
    "new.pop() # deletes the last item by default\n",
    "print(new)\n",
    "new.reverse()\n",
    "print(new)"
   ]
  },
  {
   "cell_type": "code",
   "execution_count": 23,
   "id": "9af0c40a",
   "metadata": {
    "collapsed": true
   },
   "outputs": [
    {
     "name": "stdout",
     "output_type": "stream",
     "text": [
      "[100, 101, 102, 103, 104, 105, 300, 106, 107, 108, 109, 110, 112, 113, 114, 115, 116, 117, 118, 119, 120, 121, 122, 123, 124, 126, 127, 128, 129]\n"
     ]
    }
   ],
   "source": [
    "print(new)"
   ]
  },
  {
   "cell_type": "code",
   "execution_count": 26,
   "id": "8426cf69",
   "metadata": {},
   "outputs": [
    {
     "data": {
      "text/plain": [
       "2"
      ]
     },
     "execution_count": 26,
     "metadata": {},
     "output_type": "execute_result"
    }
   ],
   "source": [
    "man=[90,34,56,12,34,90,38,86,79,10,13,14,15,25,12]\n",
    "man.count(90) # frequency of the element"
   ]
  },
  {
   "cell_type": "code",
   "execution_count": 33,
   "id": "396a2494",
   "metadata": {
    "collapsed": true
   },
   "outputs": [
    {
     "name": "stdout",
     "output_type": "stream",
     "text": [
      "[90, 34, 12, 34, 90, 12]\n"
     ]
    },
    {
     "data": {
      "text/plain": [
       "{12, 34, 90}"
      ]
     },
     "execution_count": 33,
     "metadata": {},
     "output_type": "execute_result"
    }
   ],
   "source": [
    "# set format to avoid the repeatition of elements printing\n",
    "rp=[val for val in man if man.count(val)>1]\n",
    "print(rp)\n",
    "{val for val in man if man.count(val)>1}"
   ]
  },
  {
   "cell_type": "code",
   "execution_count": 34,
   "id": "36e9737a",
   "metadata": {},
   "outputs": [
    {
     "data": {
      "text/plain": [
       "[90, 34, 56, 12, 34, 90, 38, 86, 79, 10, 13, 14, 15, 25, 12]"
      ]
     },
     "execution_count": 34,
     "metadata": {},
     "output_type": "execute_result"
    }
   ],
   "source": [
    "man"
   ]
  },
  {
   "cell_type": "code",
   "execution_count": 35,
   "id": "a4f4a3f6",
   "metadata": {},
   "outputs": [
    {
     "data": {
      "text/plain": [
       "[10, 12, 12, 13, 14, 15, 25, 34, 34, 38, 56, 79, 86, 90, 90]"
      ]
     },
     "execution_count": 35,
     "metadata": {},
     "output_type": "execute_result"
    }
   ],
   "source": [
    "man.sort()\n",
    "man"
   ]
  },
  {
   "cell_type": "code",
   "execution_count": 41,
   "id": "67dc249a",
   "metadata": {},
   "outputs": [
    {
     "name": "stdout",
     "output_type": "stream",
     "text": [
      "[10, 23, 45, 55, 90]\n"
     ]
    }
   ],
   "source": [
    "srt=sorted([55,10,23,45,90])\n",
    "print(srt)"
   ]
  },
  {
   "cell_type": "code",
   "execution_count": 44,
   "id": "71531b67",
   "metadata": {},
   "outputs": [
    {
     "name": "stdout",
     "output_type": "stream",
     "text": [
      "14 56 34 90 "
     ]
    }
   ],
   "source": [
    "r=reversed([90,34,56,14])\n",
    "for item in r:\n",
    "    print(item,end=\" \")\n",
    "    \n",
    "#iterating/looping statement"
   ]
  },
  {
   "cell_type": "code",
   "execution_count": 46,
   "id": "92ad05f5",
   "metadata": {
    "collapsed": true
   },
   "outputs": [
    {
     "name": "stdout",
     "output_type": "stream",
     "text": [
      "d\n",
      "f\n"
     ]
    }
   ],
   "source": [
    "#iter,next\n",
    "rv=reversed(['c','k','a','f','d'])\n",
    "it=iter(rv)\n",
    "print(next(it)) # iterators:manual iteration involves here\n",
    "print(next(it))"
   ]
  },
  {
   "cell_type": "code",
   "execution_count": 47,
   "id": "9d4a7598",
   "metadata": {
    "collapsed": true
   },
   "outputs": [
    {
     "name": "stdout",
     "output_type": "stream",
     "text": [
      "['__add__', '__class__', '__class_getitem__', '__contains__', '__delattr__', '__delitem__', '__dir__', '__doc__', '__eq__', '__format__', '__ge__', '__getattribute__', '__getitem__', '__gt__', '__hash__', '__iadd__', '__imul__', '__init__', '__init_subclass__', '__iter__', '__le__', '__len__', '__lt__', '__mul__', '__ne__', '__new__', '__reduce__', '__reduce_ex__', '__repr__', '__reversed__', '__rmul__', '__setattr__', '__setitem__', '__sizeof__', '__str__', '__subclasshook__', 'append', 'clear', 'copy', 'count', 'extend', 'index', 'insert', 'pop', 'remove', 'reverse', 'sort']\n"
     ]
    }
   ],
   "source": [
    "print(dir(list))"
   ]
  },
  {
   "cell_type": "code",
   "execution_count": 48,
   "id": "cbfd5246",
   "metadata": {
    "collapsed": true
   },
   "outputs": [
    {
     "name": "stdout",
     "output_type": "stream",
     "text": [
      "Help on class reversed in module builtins:\n",
      "\n",
      "class reversed(object)\n",
      " |  reversed(sequence, /)\n",
      " |  \n",
      " |  Return a reverse iterator over the values of the given sequence.\n",
      " |  \n",
      " |  Methods defined here:\n",
      " |  \n",
      " |  __getattribute__(self, name, /)\n",
      " |      Return getattr(self, name).\n",
      " |  \n",
      " |  __iter__(self, /)\n",
      " |      Implement iter(self).\n",
      " |  \n",
      " |  __length_hint__(...)\n",
      " |      Private method returning an estimate of len(list(it)).\n",
      " |  \n",
      " |  __next__(self, /)\n",
      " |      Implement next(self).\n",
      " |  \n",
      " |  __reduce__(...)\n",
      " |      Return state information for pickling.\n",
      " |  \n",
      " |  __setstate__(...)\n",
      " |      Set state information for unpickling.\n",
      " |  \n",
      " |  ----------------------------------------------------------------------\n",
      " |  Static methods defined here:\n",
      " |  \n",
      " |  __new__(*args, **kwargs) from builtins.type\n",
      " |      Create and return a new object.  See help(type) for accurate signature.\n",
      "\n"
     ]
    }
   ],
   "source": [
    "help(reversed)"
   ]
  },
  {
   "cell_type": "code",
   "execution_count": 58,
   "id": "4b8ae41a",
   "metadata": {},
   "outputs": [
    {
     "name": "stdout",
     "output_type": "stream",
     "text": [
      "r,u,t,h,u\n",
      "name\n",
      "9 csestudent\n",
      "20 sssss\n",
      "125\n"
     ]
    }
   ],
   "source": [
    "print(*\"ruthu\",sep=\",\") # *represents the whole iterable,\n",
    "print(\"name\",sep=',')\n",
    "print(5+4,\"cse\"+'student')\n",
    "print(5*4,5*'s')\n",
    "print(5**3)"
   ]
  },
  {
   "cell_type": "code",
   "execution_count": 51,
   "id": "98b3b9bd",
   "metadata": {},
   "outputs": [
    {
     "name": "stdout",
     "output_type": "stream",
     "text": [
      "[100, 101, 102, 103, 104, 105, 106, 107, 108, 109, 110, 111, 112, 113, 114, 115, 116, 117, 118, 119]\n"
     ]
    }
   ],
   "source": [
    "print(li)"
   ]
  },
  {
   "cell_type": "code",
   "execution_count": null,
   "id": "28607898",
   "metadata": {},
   "outputs": [],
   "source": []
  }
 ],
 "metadata": {
  "kernelspec": {
   "display_name": "Python 3 (ipykernel)",
   "language": "python",
   "name": "python3"
  },
  "language_info": {
   "codemirror_mode": {
    "name": "ipython",
    "version": 3
   },
   "file_extension": ".py",
   "mimetype": "text/x-python",
   "name": "python",
   "nbconvert_exporter": "python",
   "pygments_lexer": "ipython3",
   "version": "3.9.13"
  }
 },
 "nbformat": 4,
 "nbformat_minor": 5
}
